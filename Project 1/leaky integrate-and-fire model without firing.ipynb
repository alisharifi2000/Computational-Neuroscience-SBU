{
 "cells": [
  {
   "cell_type": "markdown",
   "metadata": {
    "toc": true
   },
   "source": [
    "<h1>Table of Contents<span class=\"tocSkip\"></span></h1>\n",
    "<div class=\"toc\"><ul class=\"toc-item\"><li><span><a href=\"#The-leaky-integrate-and-ﬁre-(LIF)\" data-toc-modified-id=\"The-leaky-integrate-and-ﬁre-(LIF)-1\"><span class=\"toc-item-num\">1&nbsp;&nbsp;</span>The leaky integrate-and-ﬁre (LIF)</a></span><ul class=\"toc-item\"><li><span><a href=\"#Simulate\" data-toc-modified-id=\"Simulate-1.1\"><span class=\"toc-item-num\">1.1&nbsp;&nbsp;</span>Simulate</a></span></li></ul></li></ul></div>"
   ]
  },
  {
   "cell_type": "markdown",
   "metadata": {},
   "source": [
    "# The leaky integrate-and-ﬁre (LIF)"
   ]
  },
  {
   "cell_type": "markdown",
   "metadata": {},
   "source": [
    "The leaky integrate-and-ﬁre (LIF) neuron is probably one of the simplest spiking neuron\n",
    "models, but it is still very popular due to the ease with which it can be analyzed and simulated. In its simplest form, a neuron is modeled as a “leaky integrator” of its input $I(t)$:\n",
    "\n",
    "\\begin{equation}\n",
    "\\tau_{m} \\frac{dv}{dt} = - v(t) + RI(t)\n",
    "\\end{equation}\n",
    "\n",
    "where $v(t)$ represents the membrane potential at time $t$, $\\tau_m$ is the membrane time constant and $R$ is the membrane resistance. This equation describes a simple resistor-capacitor (RC) circuit where the leakage term is due to the resistor and the integration of $I(t)$ is due to the capacitor that is in parallel to the resistor.\n",
    "\n",
    "we know that $v(t) = u(t) - u_{rest}$ , $I(t)= I_{0}$ . we want solve equation(1):\n",
    "\\begin{equation}\n",
    "v(t)= R.I_0(1− e^{-\\frac{(t - t_{0})}{\\tau_{m}}})=u(t)− u_{rest}\n",
    "\\end{equation}\n",
    "so we have :\n",
    "\\begin{equation}\n",
    "R.I_0(1− e^{-\\frac{(t - t_{0})}{\\tau_{m}}})+ u_{rest}= u(t)\n",
    "\\end{equation}\n",
    "\n",
    "You can find solution of ODE in [stackexchange](https://math.stackexchange.com/questions/2885170/how-to-solve-the-leaky-integrate-and-fire-ode)."
   ]
  },
  {
   "cell_type": "markdown",
   "metadata": {},
   "source": [
    "## Simulate"
   ]
  },
  {
   "cell_type": "code",
   "execution_count": 1,
   "metadata": {
    "ExecuteTime": {
     "end_time": "2020-04-27T03:51:11.765759Z",
     "start_time": "2020-04-27T03:51:10.939932Z"
    }
   },
   "outputs": [],
   "source": [
    "import numpy as np\n",
    "import matplotlib.pyplot as plt\n",
    "import pandas as pd"
   ]
  },
  {
   "cell_type": "code",
   "execution_count": 2,
   "metadata": {
    "ExecuteTime": {
     "end_time": "2020-04-27T03:51:11.873475Z",
     "start_time": "2020-04-27T03:51:11.768719Z"
    }
   },
   "outputs": [],
   "source": [
    "#Init variables\n",
    "T       =   1000.00000                     # total simulation length [s]\n",
    "dt      =   0.00005                       #  step size [s]\n",
    "time    =   np.arange(0, T+dt, dt)        # step values [s]\n",
    "\n",
    "t_spike =   []           #when we have spike add them to this list\n",
    "I_spike =   []           #when we have spike add them to this list\n",
    "F_spike =   []\n",
    "\n",
    "R       =    100\n",
    "t_m     =    100\n",
    "\n",
    "u_rest  =    25\n",
    "\n",
    "I       =    np.zeros(len(time))\n",
    "\n",
    "V       =    np.empty(len(time))\n",
    "V[0]    =    0\n",
    "\n",
    "U       =    np.empty(len(time))\n",
    "\n",
    "thetha  =    350"
   ]
  },
  {
   "cell_type": "code",
   "execution_count": 3,
   "metadata": {
    "ExecuteTime": {
     "end_time": "2020-04-27T03:51:11.921311Z",
     "start_time": "2020-04-27T03:51:11.877427Z"
    }
   },
   "outputs": [],
   "source": [
    "# reset variables \n",
    "def init_vars():\n",
    "    global t_spike\n",
    "    t_spike =   []\n",
    "    global I_spike\n",
    "    I_spike =   []\n",
    "    global I      \n",
    "    I = np.zeros(len(time))\n",
    "    global V      \n",
    "    V = np.empty(len(time))\n",
    "    V[0] = 0\n",
    "    global U \n",
    "    U = np.empty(len(time))"
   ]
  },
  {
   "cell_type": "code",
   "execution_count": 4,
   "metadata": {
    "ExecuteTime": {
     "end_time": "2020-04-27T03:51:12.090861Z",
     "start_time": "2020-04-27T03:51:11.924301Z"
    }
   },
   "outputs": [],
   "source": [
    "# update I when a new flow came in system\n",
    "#t_start : when flow come in system\n",
    "#t_end : when flow come out from  system\n",
    "\n",
    "def enter_I(t_start,t_finist,I_input):\n",
    "    start  = int(t_start/dt)\n",
    "    finist = int(t_finist/dt)\n",
    "    n = int(T/dt)\n",
    "    \n",
    "    if start > n:\n",
    "        start = n\n",
    "        \n",
    "    if finist > n:\n",
    "        finist = n\n",
    "    \n",
    "    I[start:finist]  =  I[start:finist] + I_input"
   ]
  },
  {
   "cell_type": "code",
   "execution_count": 5,
   "metadata": {
    "ExecuteTime": {
     "end_time": "2020-04-27T03:51:12.224516Z",
     "start_time": "2020-04-27T03:51:12.093848Z"
    }
   },
   "outputs": [],
   "source": [
    "# simulate neuron without spike\n",
    "def simulate():\n",
    "    global U\n",
    "    t0 = time[0]\n",
    "    for i,t in enumerate(time):\n",
    "        V[i] = R * I[i] *(1 - np.exp((-(t-t0)/t_m)))\n",
    "        U[i] = V[i] - u_rest"
   ]
  },
  {
   "cell_type": "code",
   "execution_count": 6,
   "metadata": {
    "ExecuteTime": {
     "end_time": "2020-04-27T03:51:12.374100Z",
     "start_time": "2020-04-27T03:51:12.227511Z"
    }
   },
   "outputs": [],
   "source": [
    "# make pandas dataframe for save results\n",
    "def make_dataframe():\n",
    "    data = pd.DataFrame(data = {'u': U , 'time':time , 'I':I})\n",
    "    data['u'] = data['u'].round(4)\n",
    "    data = data.set_index('time')\n",
    "    return data "
   ]
  },
  {
   "cell_type": "code",
   "execution_count": 7,
   "metadata": {
    "ExecuteTime": {
     "end_time": "2020-04-27T03:51:12.531679Z",
     "start_time": "2020-04-27T03:51:12.376094Z"
    }
   },
   "outputs": [],
   "source": [
    "# plot \"I(t)-time\" & \"U(t)-time\"\n",
    "def plot(data):\n",
    "    fig, axes = plt.subplots(nrows=0, ncols=0,figsize=(25,15))\n",
    "    fig.suptitle('Results', fontsize=25)\n",
    "\n",
    "    f1 = data.plot(kind='line',y='u',color='red'\n",
    "            ,title = 'U-time',figsize=(15,5)).set_ylabel('U(t)')\n",
    "\n",
    "    plt.show()\n",
    "        \n",
    "    f2 = data.plot(kind='line',y='I',color='blue'\n",
    "            ,title = 'I-time',figsize=(15,5)).set_ylabel('I(t)')"
   ]
  },
  {
   "cell_type": "code",
   "execution_count": 8,
   "metadata": {
    "ExecuteTime": {
     "end_time": "2020-04-27T03:52:55.461691Z",
     "start_time": "2020-04-27T03:51:12.534671Z"
    }
   },
   "outputs": [
    {
     "data": {
      "text/plain": [
       "<Figure size 1800x1080 with 0 Axes>"
      ]
     },
     "metadata": {},
     "output_type": "display_data"
    },
    {
     "data": {
      "image/png": "[encoded data removed]",
      "text/plain": [
       "<Figure size 1080x360 with 1 Axes>"
      ]
     },
     "metadata": {
      "needs_background": "light"
     },
     "output_type": "display_data"
    },
    {
     "data": {
      "image/png": "[encoded data removed]",
      "text/plain": [
       "<Figure size 1080x360 with 1 Axes>"
      ]
     },
     "metadata": {
      "needs_background": "light"
     },
     "output_type": "display_data"
    }
   ],
   "source": [
    "#first simulate\n",
    "#I = 0A\n",
    "\n",
    "init_vars()\n",
    "enter_I(0,T+dt,0)\n",
    "simulate()\n",
    "data = make_dataframe()\n",
    "plot(data)"
   ]
  },
  {
   "cell_type": "code",
   "execution_count": 9,
   "metadata": {
    "ExecuteTime": {
     "end_time": "2020-04-27T03:55:16.883524Z",
     "start_time": "2020-04-27T03:52:55.464646Z"
    }
   },
   "outputs": [
    {
     "data": {
      "text/plain": [
       "<Figure size 1800x1080 with 0 Axes>"
      ]
     },
     "metadata": {},
     "output_type": "display_data"
    },
    {
     "data": {
      "image/png": "[encoded data removed]",
      "text/plain": [
       "<Figure size 1080x360 with 1 Axes>"
      ]
     },
     "metadata": {
      "needs_background": "light"
     },
     "output_type": "display_data"
    },
    {
     "data": {
      "image/png": "[encoded data removed]",
      "text/plain": [
       "<Figure size 1080x360 with 1 Axes>"
      ]
     },
     "metadata": {
      "needs_background": "light"
     },
     "output_type": "display_data"
    }
   ],
   "source": [
    "#second simulate\n",
    "#I = 100A\n",
    "#I enter from 100s to 1000(end).\n",
    "\n",
    "init_vars()\n",
    "enter_I(100,T+dt,10)\n",
    "simulate()\n",
    "data = make_dataframe()\n",
    "plot(data)"
   ]
  }
 ],
 "metadata": {
  "kernelspec": {
   "display_name": "Python 3",
   "language": "python",
   "name": "python3"
  },
  "language_info": {
   "codemirror_mode": {
    "name": "ipython",
    "version": 3
   },
   "file_extension": ".py",
   "mimetype": "text/x-python",
   "name": "python",
   "nbconvert_exporter": "python",
   "pygments_lexer": "ipython3",
   "version": "3.7.3"
  },
  "latex_envs": {
   "LaTeX_envs_menu_present": true,
   "autoclose": true,
   "autocomplete": true,
   "bibliofile": "biblio.bib",
   "cite_by": "apalike",
   "current_citInitial": 1,
   "eqLabelWithNumbers": true,
   "eqNumInitial": 1,
   "hotkeys": {
    "equation": "Ctrl-E",
    "itemize": "Ctrl-I"
   },
   "labels_anchors": false,
   "latex_user_defs": false,
   "report_style_numbering": true,
   "user_envs_cfg": true
  },
  "toc": {
   "base_numbering": 1,
   "nav_menu": {},
   "number_sections": true,
   "sideBar": true,
   "skip_h1_title": false,
   "title_cell": "Table of Contents",
   "title_sidebar": "Contents",
   "toc_cell": true,
   "toc_position": {},
   "toc_section_display": true,
   "toc_window_display": false
  },
  "varInspector": {
   "cols": {
    "lenName": 16,
    "lenType": 16,
    "lenVar": 40
   },
   "kernels_config": {
    "python": {
     "delete_cmd_postfix": "",
     "delete_cmd_prefix": "del ",
     "library": "var_list.py",
     "varRefreshCmd": "print(var_dic_list())"
    },
    "r": {
     "delete_cmd_postfix": ") ",
     "delete_cmd_prefix": "rm(",
     "library": "var_list.r",
     "varRefreshCmd": "cat(var_dic_list()) "
    }
   },
   "types_to_exclude": [
    "module",
    "function",
    "builtin_function_or_method",
    "instance",
    "_Feature"
   ],
   "window_display": false
  }
 },
 "nbformat": 4,
 "nbformat_minor": 2
}
